{
 "metadata": {
  "name": "",
  "signature": "sha256:8565b993fe1a958be31d5ece136de40d64ec9f9401c759ac213cb384460bd653"
 },
 "nbformat": 3,
 "nbformat_minor": 0,
 "worksheets": [
  {
   "cells": [
    {
     "cell_type": "code",
     "collapsed": false,
     "input": [
      "import GeoObjects as go"
     ],
     "language": "python",
     "metadata": {},
     "outputs": [],
     "prompt_number": 1
    },
    {
     "cell_type": "code",
     "collapsed": false,
     "input": [
      "v = [[0,0,0],[1,0,0],[1,1,0],[0,1,0],\n",
      "     [0,0,1],[1,0,1],[1,1,1],[0,1,1]]\n",
      "f = [[0,1,2],[0,2,3],[0,4,1],[1,4,5],[1,5,2],[2,5,6],\n",
      "     [2,6,3],[3,6,7],[3,7,0],[0,7,4],[4,6,5],[6,4,7]]"
     ],
     "language": "python",
     "metadata": {},
     "outputs": [],
     "prompt_number": 7
    },
    {
     "cell_type": "code",
     "collapsed": false,
     "input": [
      "m = go.TriangleSet(v,f,smooth=False,color='0x0000ff',opacity=0.8)"
     ],
     "language": "python",
     "metadata": {},
     "outputs": [],
     "prompt_number": 8
    },
    {
     "cell_type": "code",
     "collapsed": false,
     "input": [
      "l0 = go.Line(v[:4],closed=True,lineColor='0xff0000',lineWidth=4.)\n",
      "l1 = go.Line(v[4:8],closed=True,lineColor='0xff0000',lineWidth=4.)\n",
      "l2 = go.Line(v[0],v[4],lineColor='0xff0000',lineWidth=4.)\n",
      "l3 = go.Line(v[1],v[5],lineColor='0xff0000',lineWidth=4.)\n",
      "l4 = go.Line(v[2],v[6],lineColor='0xff0000',lineWidth=4.)\n",
      "l5 = go.Line(v[3],v[7],lineColor='0xff0000',lineWidth=4.)"
     ],
     "language": "python",
     "metadata": {},
     "outputs": [],
     "prompt_number": 9
    },
    {
     "cell_type": "code",
     "collapsed": false,
     "input": [
      "p0 = go.Point(v[0],pointColor='rgb(255,0,0)',pointStyle='circle',pointSize=5.)\n",
      "p1 = go.Point(v[1],pointColor='rgb(0,255,0)',pointStyle='square',pointSize=5.)\n",
      "p2 = go.Point(v[2],pointColor='rgb(0,0,255)',pointStyle='diamond',pointSize=5.)\n",
      "p3 = go.Point(v[3],pointColor='rgb(255,255,0)',pointStyle='triangle',pointSize=5.)\n",
      "p4 = go.Point(v[4],pointColor='rgb(255,0,255)',pointStyle='downTriangle',pointSize=5.)\n",
      "p5 = go.Point(v[5],pointColor='rgb(0,255,255)',pointEdgeColor='black',pointStyle='star',pointSize=5.)\n",
      "p6 = go.Point(v[6],pointColor='rgb(90,90,90)',pointEdgeColor='rgb(0,255,0)',pointStyle='square',pointSize=5.)\n",
      "p7 = go.Point(v[7],pointColor='rgba(0,0,0,0)',pointEdgeColor='rgb(0,0,0)',pointStyle='circle',pointSize=5.)"
     ],
     "language": "python",
     "metadata": {},
     "outputs": [],
     "prompt_number": 10
    },
    {
     "cell_type": "code",
     "collapsed": false,
     "input": [
      "t0 = go.Text(\"hello world\",1.1,0.5,0.5)"
     ],
     "language": "python",
     "metadata": {},
     "outputs": [],
     "prompt_number": 11
    },
    {
     "cell_type": "code",
     "collapsed": false,
     "input": [
      "str=go.htmlWrapper.format(SCRIPT=go.render(l0,l1,l2,l3,l4,l5,p0,p1,p2,p3,p4,p5,p6,p7,t0,m))"
     ],
     "language": "python",
     "metadata": {},
     "outputs": [],
     "prompt_number": 12
    },
    {
     "cell_type": "code",
     "collapsed": false,
     "input": [
      "fstream=open('temp.html','w+b')\n",
      "fstream.write(str.encode('utf-8'))"
     ],
     "language": "python",
     "metadata": {},
     "outputs": [
      {
       "metadata": {},
       "output_type": "pyout",
       "prompt_number": 13,
       "text": [
        "15636"
       ]
      }
     ],
     "prompt_number": 13
    },
    {
     "cell_type": "code",
     "collapsed": false,
     "input": [
      "fstream.close()"
     ],
     "language": "python",
     "metadata": {},
     "outputs": [],
     "prompt_number": 14
    },
    {
     "cell_type": "code",
     "collapsed": false,
     "input": [
      "background = go.TriangleSet([[0,0,0],[3,0,0],[3,0,1],[0,0,1]],[[0,1,2],[2,3,0]],color = '0x00ffff',smooth=False)\n",
      "t0 = go.Text(\"center\",[1.5,-0.1,0.5],textBackgroundColor='rgb(255,255,255)',textPoint='center')\n",
      "t1 = go.Text(\"top\",[1.5,-0.1,1],textBackgroundColor='rgb(255,255,255)',textPoint='top')\n",
      "t2 = go.Text(\"bottom\",[1.5,-0.1,0],textBackgroundColor='rgb(255,255,255)',textPoint='bottom')\n",
      "t3 = go.Text(\"left\",[0,-0.1,0.5],textBackgroundColor='rgb(255,255,255)',textPoint='left')\n",
      "t4 = go.Text(\"supercalifragilistic\",[3,-0.1,0.5],textBackgroundColor='rgb(255,255,255)',textPoint='right')"
     ],
     "language": "python",
     "metadata": {},
     "outputs": [],
     "prompt_number": 2
    },
    {
     "cell_type": "code",
     "collapsed": false,
     "input": [
      "str = go.htmlWrapper.format(SCRIPT=go.render(t0,t1,t2,t3,t4,background))"
     ],
     "language": "python",
     "metadata": {},
     "outputs": [],
     "prompt_number": 3
    },
    {
     "cell_type": "code",
     "collapsed": false,
     "input": [
      "fstream=open('temp3.html','w+b')\n",
      "fstream.write(str.encode('utf-8'))"
     ],
     "language": "python",
     "metadata": {},
     "outputs": [
      {
       "metadata": {},
       "output_type": "pyout",
       "prompt_number": 4,
       "text": [
        "10718"
       ]
      }
     ],
     "prompt_number": 4
    },
    {
     "cell_type": "code",
     "collapsed": false,
     "input": [
      "fstream.close()"
     ],
     "language": "python",
     "metadata": {},
     "outputs": [],
     "prompt_number": 5
    },
    {
     "cell_type": "code",
     "collapsed": false,
     "input": [
      "from IPython.display import HTML\n",
      "HTML(\"<iframe src=./temp.html width=620 height=420></iframe>\")"
     ],
     "language": "python",
     "metadata": {},
     "outputs": [
      {
       "html": [
        "<iframe src=./temp.html width=620 height=420></iframe>"
       ],
       "metadata": {},
       "output_type": "pyout",
       "prompt_number": 10,
       "text": [
        "<IPython.core.display.HTML at 0x110f46208>"
       ]
      }
     ],
     "prompt_number": 10
    },
    {
     "cell_type": "code",
     "collapsed": false,
     "input": [],
     "language": "python",
     "metadata": {},
     "outputs": []
    }
   ],
   "metadata": {}
  }
 ]
}